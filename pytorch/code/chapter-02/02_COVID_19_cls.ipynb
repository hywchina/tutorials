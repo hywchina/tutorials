{
 "cells": [
  {
   "cell_type": "code",
   "execution_count": 1,
   "metadata": {},
   "outputs": [
    {
     "data": {
      "text/plain": [
       "'\\n@file name  : 02_COVID_19_cls.py\\n@author     : TingsongYu https://github.com/TingsongYu\\n@date       : 2021-12-28\\n@brief      : 新冠肺炎X光分类 demo，极简代码实现深度学习模型训练，为后续核心模块讲解，章节内容讲解奠定框架性基础。\\n'"
      ]
     },
     "execution_count": 1,
     "metadata": {},
     "output_type": "execute_result"
    }
   ],
   "source": [
    "\"\"\"\n",
    "@file name  : 02_COVID_19_cls.py\n",
    "@author     : TingsongYu https://github.com/TingsongYu\n",
    "@date       : 2021-12-28\n",
    "@brief      : 新冠肺炎X光分类 demo，极简代码实现深度学习模型训练，为后续核心模块讲解，章节内容讲解奠定框架性基础。\n",
    "\"\"\""
   ]
  },
  {
   "cell_type": "code",
   "execution_count": 2,
   "metadata": {},
   "outputs": [],
   "source": [
    "import os\n",
    "import torch\n",
    "import torch.nn as nn \n",
    "import torch.nn.functional as F \n",
    "import torch.optim as optim \n",
    "from torch.utils.data import DataLoader, Dataset\n",
    "import torchvision.transforms as transforms \n",
    "from PIL import Image"
   ]
  },
  {
   "cell_type": "code",
   "execution_count": null,
   "metadata": {},
   "outputs": [],
   "source": [
    "def min():\n",
    "    \"\"\"\n",
    "    思考如何训练自己的模型：\n",
    "    step1: 数据模块，构建dataset，dataloader，实现对硬盘中数据的读取及设定预处理方法\n",
    "    step2: 模型模块，构建神经网络，用于后续训练\n",
    "    step3: 优化模块，设定损失函数与优化器，用于在训练过程中对网络参数进行更新\n",
    "    step4: 迭代模块，循环迭代的进行模型训练，数据一轮又一轮的喂给模型，不断优化模型，直到我们让它停止训练\n",
    "    \"\"\"\n",
    "\n",
    "    # step1 数据模块 \n",
    "    class COVID19Dataset(Dataset):\n",
    "        def __init__(self, root_dir, txt_path, transform=None) -> None:\n",
    "            super().__init__()\n",
    "            \"\"\"\n",
    "            获取数据集的路径、预处理的方法\n",
    "            \"\"\"\n",
    "            self.root_dir = root_dir\n",
    "            self.txt_path = txt_path\n",
    "            self.transform = transform\n",
    "            self.img_info = [] # [(path, label)]\n",
    "            self.label_array = None\n",
    "            self._get_img_info()\n",
    "        \n",
    "        def __getitem__(self, index) -> Any:\n",
    "            \"\"\"\n",
    "            输入标量index，从硬盘中读取数据，并与处理，to Tensor\n",
    "            :param index:\n",
    "            :return:\n",
    "            \"\"\"\n",
    "            path_img, label = self.img_info[index]\n",
    "            img = Image.open(path_img).convert('L')\n",
    "\n",
    "            if self.transform is not None:\n",
    "                img = self.transform(img)\n",
    "\n",
    "            return img, label\n",
    "        \n",
    "        def __len__(self):\n",
    "            if len(self.img_info) == 0:\n",
    "                raise Exception(\"\\ndata_dir:{} is a empty dir! Please checkout your path to images!\".format(self.root_dir))\n",
    "            \n",
    "            return len(self.img_info)\n",
    "        \n",
    "        def _get_img_info(self):\n",
    "            \"\"\"\n",
    "            \n",
    "            \"\"\"\n"
   ]
  }
 ],
 "metadata": {
  "kernelspec": {
   "display_name": "base",
   "language": "python",
   "name": "python3"
  },
  "language_info": {
   "codemirror_mode": {
    "name": "ipython",
    "version": 3
   },
   "file_extension": ".py",
   "mimetype": "text/x-python",
   "name": "python",
   "nbconvert_exporter": "python",
   "pygments_lexer": "ipython3",
   "version": "3.11.7"
  }
 },
 "nbformat": 4,
 "nbformat_minor": 2
}
