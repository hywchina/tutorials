{
 "cells": [
  {
   "cell_type": "code",
   "execution_count": 1,
   "metadata": {},
   "outputs": [],
   "source": [
    "import torch \n",
    "import torch.nn as nn \n",
    "import torch.optim as optim \n",
    "from torch.utils.data import DataLoader, Dataset"
   ]
  },
  {
   "cell_type": "code",
   "execution_count": 2,
   "metadata": {},
   "outputs": [
    {
     "name": "stdout",
     "output_type": "stream",
     "text": [
      "your torch library in here:['/home/huyanwei/anaconda3/lib/python3.11/site-packages/torch']\n",
      "your nn library in here:['/home/huyanwei/anaconda3/lib/python3.11/site-packages/torch/nn']\n",
      "your optim library in here: ['/home/huyanwei/anaconda3/lib/python3.11/site-packages/torch/optim']\n"
     ]
    }
   ],
   "source": [
    "print(f\"your torch library in here:{torch.__path__}\")\n",
    "print(f\"your nn library in here:{nn.__path__}\")\n",
    "print(f\"your optim library in here: {optim.__path__}\")"
   ]
  },
  {
   "cell_type": "code",
   "execution_count": 3,
   "metadata": {},
   "outputs": [
    {
     "ename": "AttributeError",
     "evalue": "type object 'DataLoader' has no attribute '__path__'",
     "output_type": "error",
     "traceback": [
      "\u001b[0;31m---------------------------------------------------------------------------\u001b[0m",
      "\u001b[0;31mAttributeError\u001b[0m                            Traceback (most recent call last)",
      "Cell \u001b[0;32mIn[3], line 1\u001b[0m\n\u001b[0;32m----> 1\u001b[0m \u001b[38;5;28mprint\u001b[39m(\u001b[38;5;124mf\u001b[39m\u001b[38;5;124m\"\u001b[39m\u001b[38;5;124myour DataLoader library in here: \u001b[39m\u001b[38;5;132;01m{\u001b[39;00mDataLoader\u001b[38;5;241m.\u001b[39m__path__\u001b[38;5;132;01m}\u001b[39;00m\u001b[38;5;124m\"\u001b[39m)\n",
      "\u001b[0;31mAttributeError\u001b[0m: type object 'DataLoader' has no attribute '__path__'"
     ]
    }
   ],
   "source": [
    "print(f\"your DataLoader library in here: {DataLoader.__path__}\")"
   ]
  }
 ],
 "metadata": {
  "kernelspec": {
   "display_name": "base",
   "language": "python",
   "name": "python3"
  },
  "language_info": {
   "codemirror_mode": {
    "name": "ipython",
    "version": 3
   },
   "file_extension": ".py",
   "mimetype": "text/x-python",
   "name": "python",
   "nbconvert_exporter": "python",
   "pygments_lexer": "ipython3",
   "version": "3.11.7"
  }
 },
 "nbformat": 4,
 "nbformat_minor": 2
}
