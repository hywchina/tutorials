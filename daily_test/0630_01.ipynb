{
 "cells": [
  {
   "cell_type": "code",
   "execution_count": 1,
   "metadata": {},
   "outputs": [
    {
     "name": "stdout",
     "output_type": "stream",
     "text": [
      "Nodes of graph: [(1, {'age': 25, 'city': 'New York'}), (2, {'age': 30, 'city': 'San Francisco'}), (3, {'age': 28, 'city': 'Los Angeles'}), (4, {'age': 35, 'city': 'Chicago'})]\n",
      "Edges of graph: [(1, 2), (1, 3), (2, 4)]\n",
      "Node 1 information: {'age': 25, 'city': 'New York'}\n",
      "Paths from node 1 to 4: <generator object _build_paths_from_predecessors at 0x730ce3658760>\n",
      "Degrees of nodes: [(1, 2), (2, 2), (3, 1), (4, 1)]\n"
     ]
    }
   ],
   "source": [
    "import networkx as nx\n",
    "\n",
    "# 创建一个空的有向图（对于社交网络，通常使用无向图，这里假设为无向图）\n",
    "G = nx.Graph()\n",
    "\n",
    "# 添加节点，同时可以为节点添加属性\n",
    "G.add_node(1, age=25, city='New York')\n",
    "G.add_node(2, age=30, city='San Francisco')\n",
    "G.add_node(3, age=28, city='Los Angeles')\n",
    "G.add_node(4, age=35, city='Chicago')\n",
    "\n",
    "# 添加边，表示朋友关系\n",
    "G.add_edge(1, 2)  # 1和2是朋友\n",
    "G.add_edge(1, 3)  # 1和3也是朋友\n",
    "G.add_edge(2, 4)  # 2和4是朋友\n",
    "\n",
    "# 打印图的节点和边\n",
    "print(\"Nodes of graph:\", G.nodes(data=True))\n",
    "print(\"Edges of graph:\", G.edges)\n",
    "\n",
    "# 查询节点属性\n",
    "node_info = G.nodes[1]\n",
    "print(\"Node 1 information:\", node_info)\n",
    "\n",
    "# 查询路径，比如从节点1到节点4的路径\n",
    "paths = nx.all_shortest_paths(G, source=1, target=4)\n",
    "print(\"Paths from node 1 to 4:\", paths)\n",
    "\n",
    "# 计算节点的度（朋友数量）\n",
    "degrees = nx.degree(G)\n",
    "print(\"Degrees of nodes:\", degrees)"
   ]
  },
  {
   "cell_type": "code",
   "execution_count": 3,
   "metadata": {},
   "outputs": [
    {
     "name": "stderr",
     "output_type": "stream",
     "text": [
      "/home/huyanwei/anaconda3/lib/python3.11/site-packages/torch/cuda/__init__.py:619: UserWarning: Can't initialize NVML\n",
      "  warnings.warn(\"Can't initialize NVML\")\n",
      "/home/huyanwei/anaconda3/lib/python3.11/site-packages/torch/cuda/__init__.py:749: UserWarning: CUDA initialization: Unexpected error from cudaGetDeviceCount(). Did you run some cuda functions before calling NumCudaDevices() that might have already set an error? Error 804: forward compatibility was attempted on non supported HW (Triggered internally at ../c10/cuda/CUDAFunctions.cpp:108.)\n",
      "  return torch._C._cuda_getDeviceCount() if nvml_count < 0 else nvml_count\n"
     ]
    }
   ],
   "source": [
    "import torch\n",
    "from torch_geometric.data import Data\n",
    "import torch.nn.functional as F\n",
    "from torch_geometric.nn import GCNConv\n",
    "import networkx as nx\n",
    "from torch_geometric.utils import from_networkx\n",
    "\n",
    "# 1. 随机定义一些图数据（知识图谱类）\n",
    "# 创建一个简单的知识图谱网络图\n",
    "def create_random_graph(num_nodes=100, num_edges=200):\n",
    "    G = nx.gnm_random_graph(num_nodes, num_edges, directed=False)\n",
    "    # 添加节点特征，这里简单地为每个节点分配一个随机特征向量\n",
    "    node_features = torch.randn(num_nodes, 16)  # 假设每个节点有16维特征\n",
    "    # 将网络图转换为PyTorch Geometric Data对象\n",
    "    edge_index = from_networkx(G).edge_index\n",
    "    data = Data(x=node_features, edge_index=edge_index)\n",
    "    return data"
   ]
  },
  {
   "cell_type": "code",
   "execution_count": null,
   "metadata": {},
   "outputs": [],
   "source": [
    "data = create_random_graph()"
   ]
  }
 ],
 "metadata": {
  "kernelspec": {
   "display_name": "base",
   "language": "python",
   "name": "python3"
  },
  "language_info": {
   "codemirror_mode": {
    "name": "ipython",
    "version": 3
   },
   "file_extension": ".py",
   "mimetype": "text/x-python",
   "name": "python",
   "nbconvert_exporter": "python",
   "pygments_lexer": "ipython3",
   "version": "3.11.7"
  }
 },
 "nbformat": 4,
 "nbformat_minor": 2
}
